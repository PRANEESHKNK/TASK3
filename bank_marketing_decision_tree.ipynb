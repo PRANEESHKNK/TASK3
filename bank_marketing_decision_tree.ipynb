{
 "cells": [
  {
   "cell_type": "code",
   "execution_count": null,
   "id": "8911f881",
   "metadata": {},
   "outputs": [],
   "source": [
    "import numpy as np\n",
    "import pandas as pd\n",
    "import matplotlib.pyplot as plt\n",
    "import seaborn as sns"
   ]
  },
  {
   "cell_type": "code",
   "execution_count": null,
   "id": "65ec3b87",
   "metadata": {},
   "outputs": [],
   "source": [
    "df = pd.read_csv('/content/bank-additional-full.csv', delimiter=';')\n",
    "print(df.head())"
   ]
  },
  {
   "cell_type": "code",
   "execution_count": null,
   "id": "7cf95e71",
   "metadata": {},
   "outputs": [],
   "source": [
    "df.shape\n",
    "df.columns\n",
    "df.isnull().sum()\n",
    "df.duplicated().sum()\n",
    "df.drop_duplicates(inplace=True)\n",
    "df.duplicated().sum()"
   ]
  },
  {
   "cell_type": "code",
   "execution_count": null,
   "id": "f890f472",
   "metadata": {},
   "outputs": [],
   "source": [
    "df1 = df.copy()\n",
    "df1.columns"
   ]
  },
  {
   "cell_type": "code",
   "execution_count": null,
   "id": "ac5f2599",
   "metadata": {},
   "outputs": [],
   "source": [
    "from sklearn.preprocessing import LabelEncoder\n",
    "le = LabelEncoder()\n",
    "df_encoded = df1.apply(le.fit_transform)\n",
    "df_encoded"
   ]
  },
  {
   "cell_type": "code",
   "execution_count": null,
   "id": "53134d66",
   "metadata": {},
   "outputs": [],
   "source": [
    "df_encoded['y'].value_counts(normalize=True) * 100"
   ]
  },
  {
   "cell_type": "code",
   "execution_count": null,
   "id": "f2780cdf",
   "metadata": {},
   "outputs": [],
   "source": [
    "x = df_encoded.iloc[:, :-1]   \n",
    "y = df_encoded.iloc[:, -1]\n",
    "x.shape\n",
    "y.shape"
   ]
  },
  {
   "cell_type": "code",
   "execution_count": null,
   "id": "072bee9c",
   "metadata": {},
   "outputs": [],
   "source": [
    "from sklearn.model_selection import train_test_split\n",
    "x_train, x_test, y_train, y_test = train_test_split(x, y, test_size=0.3, random_state=1)\n",
    "print(x_train.shape)\n",
    "print(x_test.shape)\n",
    "print(y_train.shape)\n",
    "print(y_test.shape)"
   ]
  },
  {
   "cell_type": "code",
   "execution_count": null,
   "id": "932259a9",
   "metadata": {},
   "outputs": [],
   "source": [
    "from sklearn.tree import DecisionTreeClassifier\n",
    "dc = DecisionTreeClassifier(criterion='gini', max_depth=5, min_samples_split=10)\n",
    "dc.fit(x_train, y_train)\n",
    "print(\"Training accuracy:\", dc.score(x_train, y_train))\n",
    "print(\"Testing accuracy:\", dc.score(x_test, y_test))"
   ]
  },
  {
   "cell_type": "code",
   "execution_count": null,
   "id": "4f994664",
   "metadata": {},
   "outputs": [],
   "source": [
    "from sklearn.tree import plot_tree\n",
    "feature_names = df.columns.tolist()\n",
    "plt.figure(figsize=(40, 20))\n",
    "class_names = [\"class_0\", \"class_1\"]\n",
    "plot_tree(dc, feature_names=feature_names, class_names=class_names, filled=True, fontsize=12)\n",
    "plt.show()"
   ]
  }
 ],
 "metadata": {},
 "nbformat": 4,
 "nbformat_minor": 5
}
